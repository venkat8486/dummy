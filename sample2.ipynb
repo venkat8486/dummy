{
    "cells": [
        {
            "cell_type": "code",
            "execution_count": 1,
            "metadata": {},
            "outputs": [
                {
                    "data": {
                        "text/html": "<div>\n<style scoped>\n    .dataframe tbody tr th:only-of-type {\n        vertical-align: middle;\n    }\n\n    .dataframe tbody tr th {\n        vertical-align: top;\n    }\n\n    .dataframe thead th {\n        text-align: right;\n    }\n</style>\n<table border=\"1\" class=\"dataframe\">\n  <thead>\n    <tr style=\"text-align: right;\">\n      <th></th>\n      <th>Stock Name</th>\n      <th>% of Total Portfolio</th>\n      <th>Open Qty</th>\n      <th>Market Price</th>\n      <th>Market Value</th>\n      <th>Investment Amount</th>\n      <th>Avg Cost</th>\n      <th>Profit/Loss Till date</th>\n      <th>Profit/Loss Till date %</th>\n      <th>Today's Profit/Loss</th>\n      <th>Today's Profit/Loss %</th>\n    </tr>\n  </thead>\n  <tbody>\n    <tr>\n      <th>0</th>\n      <td>Allcargo Logist.</td>\n      <td>1.57</td>\n      <td>40</td>\n      <td>73.85</td>\n      <td>2954.0</td>\n      <td>8133.89</td>\n      <td>203.35</td>\n      <td>-5179.89</td>\n      <td>-63.68</td>\n      <td>76.0</td>\n      <td>2.64</td>\n    </tr>\n    <tr>\n      <th>1</th>\n      <td>Anant Raj</td>\n      <td>1.08</td>\n      <td>120</td>\n      <td>16.90</td>\n      <td>2028.0</td>\n      <td>5747.72</td>\n      <td>47.90</td>\n      <td>-3719.72</td>\n      <td>-64.72</td>\n      <td>12.0</td>\n      <td>0.60</td>\n    </tr>\n    <tr>\n      <th>2</th>\n      <td>Ashok Leyland</td>\n      <td>13.99</td>\n      <td>550</td>\n      <td>47.95</td>\n      <td>26372.5</td>\n      <td>47107.53</td>\n      <td>85.65</td>\n      <td>-20735.03</td>\n      <td>-44.02</td>\n      <td>1870.0</td>\n      <td>7.63</td>\n    </tr>\n    <tr>\n      <th>3</th>\n      <td>B H E L</td>\n      <td>4.00</td>\n      <td>360</td>\n      <td>20.95</td>\n      <td>7542.0</td>\n      <td>27386.13</td>\n      <td>76.07</td>\n      <td>-19844.13</td>\n      <td>-72.46</td>\n      <td>0.0</td>\n      <td>0.00</td>\n    </tr>\n    <tr>\n      <th>4</th>\n      <td>Bartronics India</td>\n      <td>0.76</td>\n      <td>1300</td>\n      <td>1.10</td>\n      <td>1430.0</td>\n      <td>22240.18</td>\n      <td>17.11</td>\n      <td>-20810.18</td>\n      <td>-93.57</td>\n      <td>65.0</td>\n      <td>4.76</td>\n    </tr>\n  </tbody>\n</table>\n</div>",
                        "text/plain": "         Stock Name  % of Total Portfolio  Open Qty  Market Price  \\\n0  Allcargo Logist.                  1.57        40         73.85   \n1         Anant Raj                  1.08       120         16.90   \n2     Ashok Leyland                 13.99       550         47.95   \n3           B H E L                  4.00       360         20.95   \n4  Bartronics India                  0.76      1300          1.10   \n\n   Market Value  Investment Amount  Avg Cost  Profit/Loss Till date  \\\n0        2954.0            8133.89    203.35               -5179.89   \n1        2028.0            5747.72     47.90               -3719.72   \n2       26372.5           47107.53     85.65              -20735.03   \n3        7542.0           27386.13     76.07              -19844.13   \n4        1430.0           22240.18     17.11              -20810.18   \n\n   Profit/Loss Till date %  Today's Profit/Loss  Today's Profit/Loss %  \n0                   -63.68                 76.0                   2.64  \n1                   -64.72                 12.0                   0.60  \n2                   -44.02               1870.0                   7.63  \n3                   -72.46                  0.0                   0.00  \n4                   -93.57                 65.0                   4.76  "
                    },
                    "execution_count": 1,
                    "metadata": {},
                    "output_type": "execute_result"
                }
            ],
            "source": "# The code was removed by Watson Studio for sharing."
        },
        {
            "cell_type": "code",
            "execution_count": null,
            "metadata": {},
            "outputs": [],
            "source": ""
        }
    ],
    "metadata": {
        "kernelspec": {
            "display_name": "Python 3.6",
            "language": "python",
            "name": "python3"
        },
        "language_info": {
            "codemirror_mode": {
                "name": "ipython",
                "version": 3
            },
            "file_extension": ".py",
            "mimetype": "text/x-python",
            "name": "python",
            "nbconvert_exporter": "python",
            "pygments_lexer": "ipython3",
            "version": "3.6.9"
        }
    },
    "nbformat": 4,
    "nbformat_minor": 1
}